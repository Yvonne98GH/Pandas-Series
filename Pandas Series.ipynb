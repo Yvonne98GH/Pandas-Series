{
 "cells": [
  {
   "cell_type": "code",
   "execution_count": 1,
   "id": "4cbd79ee",
   "metadata": {},
   "outputs": [],
   "source": [
    "import pandas as pd\n",
    "import numpy as np"
   ]
  },
  {
   "cell_type": "code",
   "execution_count": 2,
   "id": "f96469c5",
   "metadata": {},
   "outputs": [
    {
     "data": {
      "text/plain": [
       "0     35.467\n",
       "1     63.951\n",
       "2     80.940\n",
       "3     60.665\n",
       "4    127.061\n",
       "5     64.511\n",
       "6    318.523\n",
       "dtype: float64"
      ]
     },
     "execution_count": 2,
     "metadata": {},
     "output_type": "execute_result"
    }
   ],
   "source": [
    "g7_pop = pd.Series([35.467, 63.951, 80.940, 60.665, 127.061, 64.511, 318.523])\n",
    "g7_pop"
   ]
  },
  {
   "cell_type": "code",
   "execution_count": 3,
   "id": "375eb510",
   "metadata": {},
   "outputs": [
    {
     "data": {
      "text/plain": [
       "dtype('float64')"
      ]
     },
     "execution_count": 3,
     "metadata": {},
     "output_type": "execute_result"
    }
   ],
   "source": [
    "g7_pop.dtype"
   ]
  },
  {
   "cell_type": "code",
   "execution_count": 4,
   "id": "587af883",
   "metadata": {},
   "outputs": [
    {
     "data": {
      "text/plain": [
       "array([ 35.467,  63.951,  80.94 ,  60.665, 127.061,  64.511, 318.523])"
      ]
     },
     "execution_count": 4,
     "metadata": {},
     "output_type": "execute_result"
    }
   ],
   "source": [
    "g7_pop.values"
   ]
  },
  {
   "cell_type": "code",
   "execution_count": 5,
   "id": "c7a7bf10",
   "metadata": {},
   "outputs": [
    {
     "data": {
      "text/plain": [
       "numpy.ndarray"
      ]
     },
     "execution_count": 5,
     "metadata": {},
     "output_type": "execute_result"
    }
   ],
   "source": [
    "type(g7_pop.values)"
   ]
  },
  {
   "cell_type": "code",
   "execution_count": 6,
   "id": "196aa17e",
   "metadata": {},
   "outputs": [
    {
     "data": {
      "text/plain": [
       "35.467"
      ]
     },
     "execution_count": 6,
     "metadata": {},
     "output_type": "execute_result"
    }
   ],
   "source": [
    "g7_pop[0]"
   ]
  },
  {
   "cell_type": "code",
   "execution_count": 7,
   "id": "af96a178",
   "metadata": {},
   "outputs": [
    {
     "data": {
      "text/plain": [
       "63.951"
      ]
     },
     "execution_count": 7,
     "metadata": {},
     "output_type": "execute_result"
    }
   ],
   "source": [
    "g7_pop[1]"
   ]
  },
  {
   "cell_type": "code",
   "execution_count": 8,
   "id": "45dcb8ff",
   "metadata": {},
   "outputs": [
    {
     "data": {
      "text/plain": [
       "RangeIndex(start=0, stop=7, step=1)"
      ]
     },
     "execution_count": 8,
     "metadata": {},
     "output_type": "execute_result"
    }
   ],
   "source": [
    "g7_pop.index"
   ]
  },
  {
   "cell_type": "code",
   "execution_count": 9,
   "id": "34686164",
   "metadata": {},
   "outputs": [],
   "source": [
    "g7_pop.index = [\n",
    "    'Canada',\n",
    "    'France',\n",
    "    'Germany',\n",
    "    'Italy',\n",
    "    'Japan',\n",
    "    'United Kingdom',\n",
    "    'United States',\n",
    "]"
   ]
  },
  {
   "cell_type": "code",
   "execution_count": 10,
   "id": "9f31bb27",
   "metadata": {},
   "outputs": [
    {
     "name": "stderr",
     "output_type": "stream",
     "text": [
      "C:\\Users\\DELL\\AppData\\Local\\Temp\\ipykernel_19752\\297810826.py:1: FutureWarning: Series.__getitem__ treating keys as positions is deprecated. In a future version, integer keys will always be treated as labels (consistent with DataFrame behavior). To access a value by position, use `ser.iloc[pos]`\n",
      "  g7_pop[1]\n"
     ]
    },
    {
     "data": {
      "text/plain": [
       "63.951"
      ]
     },
     "execution_count": 10,
     "metadata": {},
     "output_type": "execute_result"
    }
   ],
   "source": [
    "g7_pop[1]"
   ]
  },
  {
   "cell_type": "code",
   "execution_count": 11,
   "id": "a954d35c",
   "metadata": {},
   "outputs": [
    {
     "data": {
      "text/plain": [
       "Canada             35.467\n",
       "France             63.951\n",
       "Germany            80.940\n",
       "Italy              60.665\n",
       "Japan             127.061\n",
       "United Kingdom     64.511\n",
       "United States     318.523\n",
       "dtype: float64"
      ]
     },
     "execution_count": 11,
     "metadata": {},
     "output_type": "execute_result"
    }
   ],
   "source": [
    "g7_pop"
   ]
  },
  {
   "cell_type": "code",
   "execution_count": 12,
   "id": "5fb6d54e",
   "metadata": {},
   "outputs": [
    {
     "name": "stderr",
     "output_type": "stream",
     "text": [
      "C:\\Users\\DELL\\AppData\\Local\\Temp\\ipykernel_19752\\2572533557.py:1: FutureWarning: Series.__getitem__ treating keys as positions is deprecated. In a future version, integer keys will always be treated as labels (consistent with DataFrame behavior). To access a value by position, use `ser.iloc[pos]`\n",
      "  g7_pop[0]\n"
     ]
    },
    {
     "data": {
      "text/plain": [
       "35.467"
      ]
     },
     "execution_count": 12,
     "metadata": {},
     "output_type": "execute_result"
    }
   ],
   "source": [
    "g7_pop[0]"
   ]
  },
  {
   "cell_type": "code",
   "execution_count": 13,
   "id": "0b9498a9",
   "metadata": {},
   "outputs": [
    {
     "data": {
      "text/plain": [
       "Canada             35.467\n",
       "France             63.951\n",
       "Germany            80.940\n",
       "Italy              60.665\n",
       "Japan             127.061\n",
       "United Kingdom     64.511\n",
       "United States     318.523\n",
       "Name: G7 Population in millions, dtype: float64"
      ]
     },
     "execution_count": 13,
     "metadata": {},
     "output_type": "execute_result"
    }
   ],
   "source": [
    "pd.Series({\n",
    "    'Canada': 35.467,\n",
    "    'France': 63.951,\n",
    "    'Germany': 80.94,\n",
    "    'Italy': 60.665,\n",
    "    'Japan': 127.061,\n",
    "    'United Kingdom': 64.511,\n",
    "    'United States': 318.523\n",
    "}, name='G7 Population in millions')"
   ]
  },
  {
   "cell_type": "code",
   "execution_count": 14,
   "id": "75dec49f",
   "metadata": {},
   "outputs": [
    {
     "data": {
      "text/plain": [
       "Canada             35.467\n",
       "France             63.951\n",
       "Germany            80.940\n",
       "Italy              60.665\n",
       "Japan             127.061\n",
       "United Kingdom     64.511\n",
       "United States     318.523\n",
       "Name: G7 Population in millions, dtype: float64"
      ]
     },
     "execution_count": 14,
     "metadata": {},
     "output_type": "execute_result"
    }
   ],
   "source": [
    "pd.Series(\n",
    "    [35.467, 63.951, 80.94, 60.665, 127.061, 64.511, 318.523],\n",
    "    index=['Canada', 'France', 'Germany', 'Italy', 'Japan', 'United Kingdom',\n",
    "       'United States'],\n",
    "    name='G7 Population in millions')"
   ]
  },
  {
   "cell_type": "code",
   "execution_count": 15,
   "id": "1f735991",
   "metadata": {},
   "outputs": [
    {
     "data": {
      "text/plain": [
       "France     63.951\n",
       "Germany    80.940\n",
       "Italy      60.665\n",
       "Spain         NaN\n",
       "dtype: float64"
      ]
     },
     "execution_count": 15,
     "metadata": {},
     "output_type": "execute_result"
    }
   ],
   "source": [
    "pd.Series(g7_pop, index=['France', 'Germany', 'Italy', 'Spain'])\n"
   ]
  },
  {
   "cell_type": "code",
   "execution_count": 16,
   "id": "a414e0c2",
   "metadata": {},
   "outputs": [
    {
     "data": {
      "text/plain": [
       "Canada             35.467\n",
       "France             63.951\n",
       "Germany            80.940\n",
       "Italy              60.665\n",
       "Japan             127.061\n",
       "United Kingdom     64.511\n",
       "United States     318.523\n",
       "dtype: float64"
      ]
     },
     "execution_count": 16,
     "metadata": {},
     "output_type": "execute_result"
    }
   ],
   "source": [
    "g7_pop"
   ]
  },
  {
   "cell_type": "code",
   "execution_count": 17,
   "id": "fd84612e",
   "metadata": {},
   "outputs": [
    {
     "data": {
      "text/plain": [
       "35.467"
      ]
     },
     "execution_count": 17,
     "metadata": {},
     "output_type": "execute_result"
    }
   ],
   "source": [
    "g7_pop[\"Canada\"]"
   ]
  },
  {
   "cell_type": "code",
   "execution_count": 18,
   "id": "a81855c0",
   "metadata": {},
   "outputs": [
    {
     "data": {
      "text/plain": [
       "35.467"
      ]
     },
     "execution_count": 18,
     "metadata": {},
     "output_type": "execute_result"
    }
   ],
   "source": [
    "g7_pop.iloc[0]"
   ]
  },
  {
   "cell_type": "code",
   "execution_count": 19,
   "id": "ce122529",
   "metadata": {},
   "outputs": [
    {
     "name": "stderr",
     "output_type": "stream",
     "text": [
      "C:\\Users\\DELL\\AppData\\Local\\Temp\\ipykernel_19752\\2572533557.py:1: FutureWarning: Series.__getitem__ treating keys as positions is deprecated. In a future version, integer keys will always be treated as labels (consistent with DataFrame behavior). To access a value by position, use `ser.iloc[pos]`\n",
      "  g7_pop[0]\n"
     ]
    },
    {
     "data": {
      "text/plain": [
       "35.467"
      ]
     },
     "execution_count": 19,
     "metadata": {},
     "output_type": "execute_result"
    }
   ],
   "source": [
    "g7_pop[0]"
   ]
  },
  {
   "cell_type": "code",
   "execution_count": 20,
   "id": "9d0ade07",
   "metadata": {},
   "outputs": [
    {
     "data": {
      "text/plain": [
       "318.523"
      ]
     },
     "execution_count": 20,
     "metadata": {},
     "output_type": "execute_result"
    }
   ],
   "source": [
    "g7_pop.iloc[-1]"
   ]
  },
  {
   "cell_type": "code",
   "execution_count": 21,
   "id": "99ab1025",
   "metadata": {},
   "outputs": [
    {
     "data": {
      "text/plain": [
       "35.467"
      ]
     },
     "execution_count": 21,
     "metadata": {},
     "output_type": "execute_result"
    }
   ],
   "source": [
    "g7_pop[\"Canada\"]"
   ]
  },
  {
   "cell_type": "code",
   "execution_count": 22,
   "id": "71429538",
   "metadata": {},
   "outputs": [
    {
     "data": {
      "text/plain": [
       "Italy     60.665\n",
       "France    63.951\n",
       "dtype: float64"
      ]
     },
     "execution_count": 22,
     "metadata": {},
     "output_type": "execute_result"
    }
   ],
   "source": [
    "g7_pop[[\"Italy\",\"France\"]]"
   ]
  },
  {
   "cell_type": "code",
   "execution_count": 23,
   "id": "61d2e868",
   "metadata": {},
   "outputs": [
    {
     "data": {
      "text/plain": [
       "80.94"
      ]
     },
     "execution_count": 23,
     "metadata": {},
     "output_type": "execute_result"
    }
   ],
   "source": [
    "g7_pop.iloc[2]"
   ]
  },
  {
   "cell_type": "code",
   "execution_count": 24,
   "id": "9cd324ab",
   "metadata": {},
   "outputs": [
    {
     "data": {
      "text/plain": [
       "Canada     35.467\n",
       "France     63.951\n",
       "Germany    80.940\n",
       "Italy      60.665\n",
       "dtype: float64"
      ]
     },
     "execution_count": 24,
     "metadata": {},
     "output_type": "execute_result"
    }
   ],
   "source": [
    "g7_pop[\"Canada\":\"Italy\"]"
   ]
  },
  {
   "cell_type": "code",
   "execution_count": 25,
   "id": "b24678eb",
   "metadata": {},
   "outputs": [
    {
     "data": {
      "text/plain": [
       "Canada     35.467\n",
       "France     63.951\n",
       "Germany    80.940\n",
       "dtype: float64"
      ]
     },
     "execution_count": 25,
     "metadata": {},
     "output_type": "execute_result"
    }
   ],
   "source": [
    "g7_pop[0:3]"
   ]
  },
  {
   "cell_type": "code",
   "execution_count": 26,
   "id": "d15acad8",
   "metadata": {},
   "outputs": [
    {
     "data": {
      "text/plain": [
       "Germany           80.940\n",
       "Japan            127.061\n",
       "United States    318.523\n",
       "dtype: float64"
      ]
     },
     "execution_count": 26,
     "metadata": {},
     "output_type": "execute_result"
    }
   ],
   "source": [
    "g7_pop[g7_pop > 70]"
   ]
  },
  {
   "cell_type": "code",
   "execution_count": 27,
   "id": "4d08a122",
   "metadata": {},
   "outputs": [
    {
     "data": {
      "text/plain": [
       "Canada            False\n",
       "France            False\n",
       "Germany            True\n",
       "Italy             False\n",
       "Japan              True\n",
       "United Kingdom    False\n",
       "United States      True\n",
       "dtype: bool"
      ]
     },
     "execution_count": 27,
     "metadata": {},
     "output_type": "execute_result"
    }
   ],
   "source": [
    "g7_pop > 70"
   ]
  },
  {
   "cell_type": "code",
   "execution_count": 28,
   "id": "fb746e7d",
   "metadata": {},
   "outputs": [
    {
     "data": {
      "text/plain": [
       "107.30257142857144"
      ]
     },
     "execution_count": 28,
     "metadata": {},
     "output_type": "execute_result"
    }
   ],
   "source": [
    "g7_pop.mean()"
   ]
  },
  {
   "cell_type": "code",
   "execution_count": 29,
   "id": "aa650588",
   "metadata": {},
   "outputs": [
    {
     "data": {
      "text/plain": [
       "97.24996987121581"
      ]
     },
     "execution_count": 29,
     "metadata": {},
     "output_type": "execute_result"
    }
   ],
   "source": [
    "g7_pop.std()"
   ]
  },
  {
   "cell_type": "code",
   "execution_count": 30,
   "id": "bdd95eca",
   "metadata": {},
   "outputs": [
    {
     "data": {
      "text/plain": [
       "Canada             35467000.0\n",
       "France             63951000.0\n",
       "Germany            80940000.0\n",
       "Italy              60665000.0\n",
       "Japan             127061000.0\n",
       "United Kingdom     64511000.0\n",
       "United States     318523000.0\n",
       "dtype: float64"
      ]
     },
     "execution_count": 30,
     "metadata": {},
     "output_type": "execute_result"
    }
   ],
   "source": [
    "g7_pop * 1000000"
   ]
  },
  {
   "cell_type": "code",
   "execution_count": 31,
   "id": "f4229c86",
   "metadata": {},
   "outputs": [
    {
     "data": {
      "text/plain": [
       "Canada             35467000.0\n",
       "France             63951000.0\n",
       "Germany            80940000.0\n",
       "Italy              60665000.0\n",
       "Japan             127061000.0\n",
       "United Kingdom     64511000.0\n",
       "United States     318523000.0\n",
       "dtype: float64"
      ]
     },
     "execution_count": 31,
     "metadata": {},
     "output_type": "execute_result"
    }
   ],
   "source": [
    "g7_pop * 1_000_000"
   ]
  },
  {
   "cell_type": "code",
   "execution_count": 32,
   "id": "00d93a27",
   "metadata": {},
   "outputs": [
    {
     "data": {
      "text/plain": [
       "Canada            3.568603\n",
       "France            4.158117\n",
       "Germany           4.393708\n",
       "Italy             4.105367\n",
       "Japan             4.844667\n",
       "United Kingdom    4.166836\n",
       "United States     5.763695\n",
       "dtype: float64"
      ]
     },
     "execution_count": 32,
     "metadata": {},
     "output_type": "execute_result"
    }
   ],
   "source": [
    "np.log(g7_pop)"
   ]
  },
  {
   "cell_type": "code",
   "execution_count": 33,
   "id": "88a3deba",
   "metadata": {},
   "outputs": [
    {
     "data": {
      "text/plain": [
       "68.51866666666666"
      ]
     },
     "execution_count": 33,
     "metadata": {},
     "output_type": "execute_result"
    }
   ],
   "source": [
    "g7_pop[\"France\":\"Italy\"].mean()"
   ]
  },
  {
   "cell_type": "code",
   "execution_count": 34,
   "id": "5ab0f6e2",
   "metadata": {},
   "outputs": [
    {
     "data": {
      "text/plain": [
       "Germany           80.940\n",
       "Japan            127.061\n",
       "United States    318.523\n",
       "dtype: float64"
      ]
     },
     "execution_count": 34,
     "metadata": {},
     "output_type": "execute_result"
    }
   ],
   "source": [
    "g7_pop[g7_pop>80]"
   ]
  },
  {
   "cell_type": "code",
   "execution_count": 35,
   "id": "f18a8a24",
   "metadata": {},
   "outputs": [
    {
     "data": {
      "text/plain": [
       "Canada            35.467\n",
       "Germany           80.940\n",
       "Japan            127.061\n",
       "United States    318.523\n",
       "dtype: float64"
      ]
     },
     "execution_count": 35,
     "metadata": {},
     "output_type": "execute_result"
    }
   ],
   "source": [
    "g7_pop[(g7_pop>80) | (g7_pop<40)]"
   ]
  },
  {
   "cell_type": "code",
   "execution_count": 36,
   "id": "44bdf626",
   "metadata": {},
   "outputs": [
    {
     "data": {
      "text/plain": [
       "Canada             40.500\n",
       "France             63.951\n",
       "Germany            80.940\n",
       "Italy              60.665\n",
       "Japan             127.061\n",
       "United Kingdom     64.511\n",
       "United States     318.523\n",
       "dtype: float64"
      ]
     },
     "execution_count": 36,
     "metadata": {},
     "output_type": "execute_result"
    }
   ],
   "source": [
    "g7_pop[\"Canada\"] = 40.5\n",
    "g7_pop"
   ]
  },
  {
   "cell_type": "code",
   "execution_count": 37,
   "id": "9305ed91",
   "metadata": {},
   "outputs": [
    {
     "data": {
      "text/plain": [
       "Canada             40.500\n",
       "France             63.951\n",
       "Germany            80.940\n",
       "Italy              60.665\n",
       "Japan             127.061\n",
       "United Kingdom     64.511\n",
       "United States     500.000\n",
       "dtype: float64"
      ]
     },
     "execution_count": 37,
     "metadata": {},
     "output_type": "execute_result"
    }
   ],
   "source": [
    "g7_pop.iloc[-1] = 500\n",
    "g7_pop"
   ]
  },
  {
   "cell_type": "code",
   "execution_count": 38,
   "id": "89b2c209",
   "metadata": {},
   "outputs": [
    {
     "data": {
      "text/plain": [
       "Canada             40.500\n",
       "France             63.951\n",
       "Germany            80.940\n",
       "Italy              60.665\n",
       "Japan             127.061\n",
       "United Kingdom     64.511\n",
       "United States     500.000\n",
       "dtype: float64"
      ]
     },
     "execution_count": 38,
     "metadata": {},
     "output_type": "execute_result"
    }
   ],
   "source": [
    "g7_pop"
   ]
  },
  {
   "cell_type": "code",
   "execution_count": 39,
   "id": "afe510cf",
   "metadata": {},
   "outputs": [],
   "source": [
    "g7_pop[g7_pop<70] = 99.99"
   ]
  },
  {
   "cell_type": "code",
   "execution_count": 40,
   "id": "3e385098",
   "metadata": {},
   "outputs": [
    {
     "data": {
      "text/plain": [
       "Canada             99.990\n",
       "France             99.990\n",
       "Germany            80.940\n",
       "Italy              99.990\n",
       "Japan             127.061\n",
       "United Kingdom     99.990\n",
       "United States     500.000\n",
       "dtype: float64"
      ]
     },
     "execution_count": 40,
     "metadata": {},
     "output_type": "execute_result"
    }
   ],
   "source": [
    "g7_pop"
   ]
  },
  {
   "cell_type": "code",
   "execution_count": 41,
   "id": "be30d374",
   "metadata": {},
   "outputs": [
    {
     "data": {
      "text/plain": [
       "Series([], dtype: object)"
      ]
     },
     "execution_count": 41,
     "metadata": {},
     "output_type": "execute_result"
    }
   ],
   "source": [
    "\"\"\"Exercise\n",
    "Create an empty pandas Series\n",
    "\"\"\"\n",
    "pd.Series()"
   ]
  },
  {
   "cell_type": "code",
   "execution_count": 42,
   "id": "24b22a1e",
   "metadata": {},
   "outputs": [],
   "source": [
    "#Given the X python list convert it to an Y pandas Series\n",
    "X = [1,2,3,4,5,6,7,8]\n",
    "Y = pd.Series(X)"
   ]
  },
  {
   "cell_type": "code",
   "execution_count": 43,
   "id": "f186a3c8",
   "metadata": {},
   "outputs": [
    {
     "data": {
      "text/plain": [
       "0    1\n",
       "1    2\n",
       "2    3\n",
       "3    4\n",
       "4    5\n",
       "5    6\n",
       "6    7\n",
       "7    8\n",
       "dtype: int64"
      ]
     },
     "execution_count": 43,
     "metadata": {},
     "output_type": "execute_result"
    }
   ],
   "source": [
    "Y"
   ]
  },
  {
   "cell_type": "code",
   "execution_count": 44,
   "id": "a30197b0",
   "metadata": {},
   "outputs": [
    {
     "data": {
      "text/plain": [
       "list"
      ]
     },
     "execution_count": 44,
     "metadata": {},
     "output_type": "execute_result"
    }
   ],
   "source": [
    "type(X)"
   ]
  },
  {
   "cell_type": "code",
   "execution_count": 45,
   "id": "3df08af6",
   "metadata": {},
   "outputs": [
    {
     "data": {
      "text/plain": [
       "pandas.core.series.Series"
      ]
     },
     "execution_count": 45,
     "metadata": {},
     "output_type": "execute_result"
    }
   ],
   "source": [
    "type(Y)"
   ]
  },
  {
   "cell_type": "code",
   "execution_count": 46,
   "id": "250d1a0a",
   "metadata": {},
   "outputs": [],
   "source": [
    "#Given the x pandas Series, name it 'My letters'\n",
    "x = pd.Series([\"X\",\"Y\",\"Z\"])\n",
    "x.name = \"My letters\""
   ]
  },
  {
   "cell_type": "code",
   "execution_count": 47,
   "id": "9a81cf9c",
   "metadata": {},
   "outputs": [
    {
     "data": {
      "text/plain": [
       "0    X\n",
       "1    Y\n",
       "2    Z\n",
       "Name: My letters, dtype: object"
      ]
     },
     "execution_count": 47,
     "metadata": {},
     "output_type": "execute_result"
    }
   ],
   "source": [
    "x"
   ]
  },
  {
   "cell_type": "code",
   "execution_count": 48,
   "id": "27129e17",
   "metadata": {},
   "outputs": [
    {
     "data": {
      "text/plain": [
       "array(['X', 'Y', 'Z'], dtype=object)"
      ]
     },
     "execution_count": 48,
     "metadata": {},
     "output_type": "execute_result"
    }
   ],
   "source": [
    "#Given the x pandas Series, show its values\n",
    "x.values"
   ]
  },
  {
   "cell_type": "code",
   "execution_count": 49,
   "id": "16cf3849",
   "metadata": {},
   "outputs": [
    {
     "data": {
      "text/plain": [
       "Jali     NaN\n",
       "Beta     NaN\n",
       "Alpha    NaN\n",
       "Name: My letters, dtype: object"
      ]
     },
     "execution_count": 49,
     "metadata": {},
     "output_type": "execute_result"
    }
   ],
   "source": [
    "#Assign index names to the given x pandas Series\n",
    "pd.Series(x, index = [\"Jali\",\"Beta\",\"Alpha\"])#WRONG"
   ]
  },
  {
   "cell_type": "code",
   "execution_count": 50,
   "id": "c53e711d",
   "metadata": {},
   "outputs": [
    {
     "data": {
      "text/plain": [
       "Jali     X\n",
       "Beta     Y\n",
       "Alpha    Z\n",
       "dtype: object"
      ]
     },
     "execution_count": 50,
     "metadata": {},
     "output_type": "execute_result"
    }
   ],
   "source": [
    "#Assign index names to the given x pandas Series\n",
    "pd.Series([\"X\",\"Y\",\"Z\"],\n",
    "         index = [\"Jali\",\"Beta\",\"Alpha\"])"
   ]
  },
  {
   "cell_type": "code",
   "execution_count": 51,
   "id": "79c3d180",
   "metadata": {},
   "outputs": [
    {
     "data": {
      "text/plain": [
       "Jali     X\n",
       "Beta     Y\n",
       "Alpha    Z\n",
       "Name: My letters, dtype: object"
      ]
     },
     "execution_count": 51,
     "metadata": {},
     "output_type": "execute_result"
    }
   ],
   "source": [
    "x\n",
    "index_names = [\"Jali\",\"Beta\",\"Alpha\"]\n",
    "\n",
    "x.index = index_names\n",
    "x"
   ]
  },
  {
   "cell_type": "code",
   "execution_count": 52,
   "id": "e2f8849e",
   "metadata": {},
   "outputs": [
    {
     "data": {
      "text/plain": [
       "'X'"
      ]
     },
     "execution_count": 52,
     "metadata": {},
     "output_type": "execute_result"
    }
   ],
   "source": [
    "#Given the x pandas Series, show its first element\n",
    "x.iloc[0]"
   ]
  },
  {
   "cell_type": "code",
   "execution_count": 53,
   "id": "0e9f687b",
   "metadata": {},
   "outputs": [
    {
     "data": {
      "text/plain": [
       "Jali     X\n",
       "Beta     Y\n",
       "Alpha    Z\n",
       "Name: My letters, dtype: object"
      ]
     },
     "execution_count": 53,
     "metadata": {},
     "output_type": "execute_result"
    }
   ],
   "source": [
    "x"
   ]
  },
  {
   "cell_type": "code",
   "execution_count": 54,
   "id": "d050247b",
   "metadata": {},
   "outputs": [
    {
     "data": {
      "text/plain": [
       "'X'"
      ]
     },
     "execution_count": 54,
     "metadata": {},
     "output_type": "execute_result"
    }
   ],
   "source": [
    "x[\"Jali\"]"
   ]
  },
  {
   "cell_type": "code",
   "execution_count": 55,
   "id": "17e4e0b9",
   "metadata": {},
   "outputs": [
    {
     "data": {
      "text/plain": [
       "'Z'"
      ]
     },
     "execution_count": 55,
     "metadata": {},
     "output_type": "execute_result"
    }
   ],
   "source": [
    "#Given the x pandas Series, show its last element\n",
    "x.iloc[-1]"
   ]
  },
  {
   "cell_type": "code",
   "execution_count": 56,
   "id": "64d9d9be",
   "metadata": {},
   "outputs": [
    {
     "data": {
      "text/plain": [
       "Beta    Y\n",
       "Name: My letters, dtype: object"
      ]
     },
     "execution_count": 56,
     "metadata": {},
     "output_type": "execute_result"
    }
   ],
   "source": [
    "#Given the x pandas Series, show all middle elements\n",
    "x.iloc[1:-1]"
   ]
  },
  {
   "cell_type": "code",
   "execution_count": 57,
   "id": "31ab8cbf",
   "metadata": {},
   "outputs": [
    {
     "data": {
      "text/plain": [
       "Alpha    Z\n",
       "Beta     Y\n",
       "Jali     X\n",
       "Name: My letters, dtype: object"
      ]
     },
     "execution_count": 57,
     "metadata": {},
     "output_type": "execute_result"
    }
   ],
   "source": [
    "#Given the x pandas Series, show the elements in reverse position\n",
    "x.iloc[::-1]"
   ]
  },
  {
   "cell_type": "code",
   "execution_count": 58,
   "id": "bbcc6712",
   "metadata": {},
   "outputs": [
    {
     "data": {
      "text/plain": [
       "('X', 'Z')"
      ]
     },
     "execution_count": 58,
     "metadata": {},
     "output_type": "execute_result"
    }
   ],
   "source": [
    "#Given the X pandas Series, show the first and last elements\n",
    "x.iloc[0], x.iloc[-1] #or x[[0,-1]]"
   ]
  },
  {
   "cell_type": "code",
   "execution_count": 59,
   "id": "a72a2542",
   "metadata": {},
   "outputs": [
    {
     "data": {
      "text/plain": [
       "Jali     X\n",
       "Alpha    Z\n",
       "Name: My letters, dtype: object"
      ]
     },
     "execution_count": 59,
     "metadata": {},
     "output_type": "execute_result"
    }
   ],
   "source": [
    "x.iloc[[0,-1]]"
   ]
  },
  {
   "cell_type": "code",
   "execution_count": 60,
   "id": "e8e3c1fa",
   "metadata": {},
   "outputs": [
    {
     "data": {
      "text/plain": [
       "first     1.0\n",
       "second    2.0\n",
       "third     3.0\n",
       "forth     4.0\n",
       "fifth     5.0\n",
       "dtype: float64"
      ]
     },
     "execution_count": 60,
     "metadata": {},
     "output_type": "execute_result"
    }
   ],
   "source": [
    "#Convert the given integer pandas Series to float\n",
    "C = pd.Series([1,2,3,4,5], index=['first','second','third','forth','fifth'])\n",
    "pd.Series(C, dtype = np.float64)"
   ]
  },
  {
   "cell_type": "code",
   "execution_count": 61,
   "id": "891ff1d7",
   "metadata": {},
   "outputs": [
    {
     "name": "stdout",
     "output_type": "stream",
     "text": [
      "2.2.2\n"
     ]
    }
   ],
   "source": [
    "print(pd.__version__)"
   ]
  },
  {
   "cell_type": "code",
   "execution_count": 62,
   "id": "aec52a5f",
   "metadata": {},
   "outputs": [
    {
     "name": "stdout",
     "output_type": "stream",
     "text": [
      "1.26.4\n"
     ]
    }
   ],
   "source": [
    "print(np.__version__)"
   ]
  },
  {
   "cell_type": "code",
   "execution_count": 63,
   "id": "63628087",
   "metadata": {},
   "outputs": [
    {
     "data": {
      "text/plain": [
       "fifth     5\n",
       "forth     4\n",
       "third     3\n",
       "second    2\n",
       "first     1\n",
       "dtype: int64"
      ]
     },
     "execution_count": 63,
     "metadata": {},
     "output_type": "execute_result"
    }
   ],
   "source": [
    "#Reverse the given pandas Series (first element becomes last)\n",
    "C[::-1]"
   ]
  },
  {
   "cell_type": "code",
   "execution_count": 64,
   "id": "7ebaef5a",
   "metadata": {},
   "outputs": [
    {
     "data": {
      "text/plain": [
       "first     1\n",
       "second    2\n",
       "third     3\n",
       "forth     4\n",
       "fifth     5\n",
       "dtype: int64"
      ]
     },
     "execution_count": 64,
     "metadata": {},
     "output_type": "execute_result"
    }
   ],
   "source": [
    "#Order (sort) the given pandas Series\n",
    "C.sort_values()"
   ]
  },
  {
   "cell_type": "code",
   "execution_count": 65,
   "id": "9045e291",
   "metadata": {},
   "outputs": [
    {
     "data": {
      "text/plain": [
       "first      1\n",
       "second     2\n",
       "third      3\n",
       "forth      4\n",
       "fifth     10\n",
       "dtype: int64"
      ]
     },
     "execution_count": 65,
     "metadata": {},
     "output_type": "execute_result"
    }
   ],
   "source": [
    "#Given the C pandas Series, set the fifth element equal to 10\n",
    "C.iloc[4] = 10\n",
    "C"
   ]
  },
  {
   "cell_type": "code",
   "execution_count": 66,
   "id": "c7ca5253",
   "metadata": {},
   "outputs": [
    {
     "data": {
      "text/plain": [
       "first      1\n",
       "second     0\n",
       "third      0\n",
       "forth      0\n",
       "fifth     10\n",
       "dtype: int64"
      ]
     },
     "execution_count": 66,
     "metadata": {},
     "output_type": "execute_result"
    }
   ],
   "source": [
    "#Given the C pandas Series, change all the middle elements to 0\n",
    "C[1:-1] = 0\n",
    "C"
   ]
  },
  {
   "cell_type": "code",
   "execution_count": 67,
   "id": "a06d5070",
   "metadata": {},
   "outputs": [
    {
     "data": {
      "text/plain": [
       "G   -1\n",
       "H   -2\n",
       "I   -6\n",
       "J   -9\n",
       "dtype: int64"
      ]
     },
     "execution_count": 67,
     "metadata": {},
     "output_type": "execute_result"
    }
   ],
   "source": [
    "#Given the D pandas Series, make a mask showing negative elements\n",
    "D = pd.Series([1,2,3,4,5,6,-1,-2,-6,-9,0,6,3], index = ['A','B','C','D','E','F','G','H','I','J','K','L','M'])\n",
    "mask = D<0\n",
    "D[mask]"
   ]
  },
  {
   "cell_type": "code",
   "execution_count": 68,
   "id": "618ab9dd",
   "metadata": {},
   "outputs": [
    {
     "data": {
      "text/plain": [
       "0     True\n",
       "1    False\n",
       "2     True\n",
       "3     True\n",
       "4    False\n",
       "5    False\n",
       "6     True\n",
       "7     True\n",
       "8     True\n",
       "9    False\n",
       "dtype: bool"
      ]
     },
     "execution_count": 68,
     "metadata": {},
     "output_type": "execute_result"
    }
   ],
   "source": [
    "X = pd.Series([-1,2,0,-4,5,6,0,0,-9,10])\n",
    "\n",
    "mask = X <= 0\n",
    "mask"
   ]
  },
  {
   "cell_type": "code",
   "execution_count": 69,
   "id": "f6a502d1",
   "metadata": {},
   "outputs": [
    {
     "data": {
      "text/plain": [
       "F    6\n",
       "L    6\n",
       "dtype: int64"
      ]
     },
     "execution_count": 69,
     "metadata": {},
     "output_type": "execute_result"
    }
   ],
   "source": [
    "#Given the D pandas Series, get numbers higher than 5\n",
    "D[D > 5]\n"
   ]
  },
  {
   "cell_type": "code",
   "execution_count": 70,
   "id": "3ca5d027",
   "metadata": {},
   "outputs": [
    {
     "data": {
      "text/plain": [
       "A    1\n",
       "B    2\n",
       "C    3\n",
       "D    4\n",
       "E    5\n",
       "F    6\n",
       "L    6\n",
       "M    3\n",
       "dtype: int64"
      ]
     },
     "execution_count": 70,
     "metadata": {},
     "output_type": "execute_result"
    }
   ],
   "source": [
    "#Given the D pandas Series, get numbers higher than the elements mean\n",
    "D[D > D.mean()]"
   ]
  },
  {
   "cell_type": "code",
   "execution_count": 71,
   "id": "0bebf37f",
   "metadata": {},
   "outputs": [
    {
     "data": {
      "text/plain": [
       "B    2\n",
       "dtype: int64"
      ]
     },
     "execution_count": 71,
     "metadata": {},
     "output_type": "execute_result"
    }
   ],
   "source": [
    "#Given the D pandas Series, get numbers equal to 2 or 10\n",
    "D[(D == 2) | (D == 10)]"
   ]
  },
  {
   "cell_type": "code",
   "execution_count": 72,
   "id": "7dfb0711",
   "metadata": {},
   "outputs": [
    {
     "data": {
      "text/plain": [
       "A    1\n",
       "B    2\n",
       "C    3\n",
       "D    4\n",
       "E    5\n",
       "F    6\n",
       "G   -1\n",
       "H   -2\n",
       "I   -6\n",
       "J   -9\n",
       "K    0\n",
       "L    6\n",
       "M    3\n",
       "dtype: int64"
      ]
     },
     "execution_count": 72,
     "metadata": {},
     "output_type": "execute_result"
    }
   ],
   "source": [
    "D"
   ]
  },
  {
   "cell_type": "code",
   "execution_count": 73,
   "id": "851f7f4a",
   "metadata": {},
   "outputs": [
    {
     "data": {
      "text/plain": [
       "True"
      ]
     },
     "execution_count": 73,
     "metadata": {},
     "output_type": "execute_result"
    }
   ],
   "source": [
    "#Given the D pandas Series, return True if none of its elements is zero\n",
    "D.any()"
   ]
  },
  {
   "cell_type": "code",
   "execution_count": 74,
   "id": "a2a003f4",
   "metadata": {},
   "outputs": [
    {
     "data": {
      "text/plain": [
       "False"
      ]
     },
     "execution_count": 74,
     "metadata": {},
     "output_type": "execute_result"
    }
   ],
   "source": [
    "#Given the D pandas Series, return True if any of its elements is zero\n",
    "D.all()"
   ]
  },
  {
   "cell_type": "code",
   "execution_count": 75,
   "id": "03f9b77f",
   "metadata": {},
   "outputs": [
    {
     "data": {
      "text/plain": [
       "12"
      ]
     },
     "execution_count": 75,
     "metadata": {},
     "output_type": "execute_result"
    }
   ],
   "source": [
    "#Given the D pandas Series, show the sum of its elements\n",
    "D.sum()"
   ]
  },
  {
   "cell_type": "code",
   "execution_count": 76,
   "id": "ca52caec",
   "metadata": {},
   "outputs": [
    {
     "data": {
      "text/plain": [
       "0.9230769230769231"
      ]
     },
     "execution_count": 76,
     "metadata": {},
     "output_type": "execute_result"
    }
   ],
   "source": [
    "#Given the D pandas Series, show the mean value of its elements\n",
    "D.mean()"
   ]
  },
  {
   "cell_type": "code",
   "execution_count": 77,
   "id": "1b2fb5a4",
   "metadata": {},
   "outputs": [
    {
     "data": {
      "text/plain": [
       "6"
      ]
     },
     "execution_count": 77,
     "metadata": {},
     "output_type": "execute_result"
    }
   ],
   "source": [
    "#Given the D pandas Series, show the max value of its elements\n",
    "D.max()"
   ]
  }
 ],
 "metadata": {
  "kernelspec": {
   "display_name": "Python 3 (ipykernel)",
   "language": "python",
   "name": "python3"
  },
  "language_info": {
   "codemirror_mode": {
    "name": "ipython",
    "version": 3
   },
   "file_extension": ".py",
   "mimetype": "text/x-python",
   "name": "python",
   "nbconvert_exporter": "python",
   "pygments_lexer": "ipython3",
   "version": "3.11.5"
  }
 },
 "nbformat": 4,
 "nbformat_minor": 5
}
